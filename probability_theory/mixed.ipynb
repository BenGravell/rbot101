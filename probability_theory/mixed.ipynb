{
  "nbformat": 4,
  "nbformat_minor": 0,
  "metadata": {
    "colab": {
      "name": "mixed.ipynb",
      "provenance": [],
      "authorship_tag": "ABX9TyMZB36lp+eYMXXBF0v+k39e",
      "include_colab_link": true
    },
    "kernelspec": {
      "name": "python3",
      "display_name": "Python 3"
    },
    "language_info": {
      "name": "python"
    }
  },
  "cells": [
    {
      "cell_type": "markdown",
      "metadata": {
        "id": "view-in-github",
        "colab_type": "text"
      },
      "source": [
        "<a href=\"https://colab.research.google.com/github/BenGravell/rbot101/blob/main/probability_theory/mixed.ipynb\" target=\"_parent\"><img src=\"https://colab.research.google.com/assets/colab-badge.svg\" alt=\"Open In Colab\"/></a>"
      ]
    },
    {
      "cell_type": "code",
      "metadata": {
        "colab": {
          "base_uri": "https://localhost:8080/"
        },
        "id": "iaTZtlv1Pd1R",
        "outputId": "e54e0521-7ff6-4644-8bc5-243540c3e4ce"
      },
      "source": [
        "# Only need to run this once per Colab notebook\n",
        "!git clone https://github.com/BenGravell/rbot101"
      ],
      "execution_count": 1,
      "outputs": [
        {
          "output_type": "stream",
          "text": [
            "Cloning into 'rbot101'...\n",
            "remote: Enumerating objects: 77, done.\u001b[K\n",
            "remote: Counting objects: 100% (77/77), done.\u001b[K\n",
            "remote: Compressing objects: 100% (49/49), done.\u001b[K\n",
            "remote: Total 77 (delta 39), reused 49 (delta 25), pack-reused 0\u001b[K\n",
            "Unpacking objects: 100% (77/77), done.\n"
          ],
          "name": "stdout"
        }
      ]
    },
    {
      "cell_type": "code",
      "metadata": {
        "id": "j6-Pi6kgPg5W"
      },
      "source": [
        "import sys\n",
        "sys.path.insert(0,'/content/rbot101')\n",
        "sys.path.insert(0,'/content/rbot101/probability_theory')"
      ],
      "execution_count": 2,
      "outputs": []
    },
    {
      "cell_type": "code",
      "metadata": {
        "id": "AYdf0NTFPhzt"
      },
      "source": [
        "import numpy as np\n",
        "import matplotlib.pyplot as plt\n",
        "from utility import savefig, plt_reset"
      ],
      "execution_count": 3,
      "outputs": []
    },
    {
      "cell_type": "code",
      "metadata": {
        "id": "3xI0uvg8Pi_k"
      },
      "source": [
        "def gaussian_pdf(x, mean=0.0, std=1.0):\n",
        "    return (1/(std*(2*np.pi)**0.5))*np.exp(-0.5*((x-mean)/std)**2)\n",
        "\n",
        "\n",
        "def pulse(x, center=0.0, width=0.001):\n",
        "    y = x - center\n",
        "    return np.where(np.abs(y) < width/2, 1/width, 0)\n",
        "\n",
        "\n",
        "def discrete_pdf(x, locs=None, weights=None):\n",
        "    if locs is None:\n",
        "        locs = [1.0, 0.0, -2.0]\n",
        "    if weights is None:\n",
        "        weights = [0.2, 0.5, 0.3]\n",
        "    assert len(locs) == len(weights)\n",
        "    return np.sum([weight*pulse(x-loc) for loc, weight in zip(locs, weights)], axis=0)"
      ],
      "execution_count": 4,
      "outputs": []
    },
    {
      "cell_type": "code",
      "metadata": {
        "id": "2nNO_XVOPlDZ"
      },
      "source": [
        "step = 0.0001\n",
        "x = np.arange(-4, 4+step, step)\n",
        "m = int((x.size-1)/2)\n",
        "cont_pdf = gaussian_pdf(x)\n",
        "disc_pdf = discrete_pdf(x)\n",
        "mixd_pdf = np.concatenate([gaussian_pdf(x[0:m]), discrete_pdf(x[m:])])"
      ],
      "execution_count": 5,
      "outputs": []
    },
    {
      "cell_type": "code",
      "metadata": {
        "colab": {
          "base_uri": "https://localhost:8080/",
          "height": 403
        },
        "id": "WOUwAOh2Pne_",
        "outputId": "6652edf9-2e2e-4463-c9b2-cbfba4058e4e"
      },
      "source": [
        "plt_reset()\n",
        "figsize = (4.25, 2)\n",
        "pdf_list = [cont_pdf, disc_pdf, mixd_pdf]\n",
        "label_list = ['Continuous', 'Discrete', 'Mixed']\n",
        "for pdf, label in zip(pdf_list, label_list):\n",
        "    plt.figure(figsize=figsize)\n",
        "    cdf = np.cumsum(pdf*np.diff(x, prepend=x[0]))\n",
        "    plt.plot(x, cdf, label=label)\n",
        "    plt.legend()\n",
        "    plt.grid('on')\n",
        "    plt.tight_layout()\n",
        "    savefig('cdf_'+label.lower()+'.pdf')"
      ],
      "execution_count": 6,
      "outputs": [
        {
          "output_type": "display_data",
          "data": {
            "image/png": "[encoded data removed]",
            "text/plain": [
              "<Figure size 306x144 with 1 Axes>"
            ]
          },
          "metadata": {
            "tags": [],
            "needs_background": "light"
          }
        },
        {
          "output_type": "display_data",
          "data": {
            "image/png": "[encoded data removed]",
            "text/plain": [
              "<Figure size 306x144 with 1 Axes>"
            ]
          },
          "metadata": {
            "tags": [],
            "needs_background": "light"
          }
        },
        {
          "output_type": "display_data",
          "data": {
            "image/png": "[encoded data removed]",
            "text/plain": [
              "<Figure size 306x144 with 1 Axes>"
            ]
          },
          "metadata": {
            "tags": [],
            "needs_background": "light"
          }
        }
      ]
    }
  ]
}