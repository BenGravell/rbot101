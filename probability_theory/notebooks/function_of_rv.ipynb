{
  "nbformat": 4,
  "nbformat_minor": 0,
  "metadata": {
    "colab": {
      "name": "function_of_rv.ipynb",
      "provenance": [],
      "authorship_tag": "ABX9TyPLt9WWN4KPRsXmwJiqQ3cp",
      "include_colab_link": true
    },
    "kernelspec": {
      "name": "python3",
      "display_name": "Python 3"
    },
    "language_info": {
      "name": "python"
    }
  },
  "cells": [
    {
      "cell_type": "markdown",
      "metadata": {
        "id": "view-in-github",
        "colab_type": "text"
      },
      "source": [
        "<a href=\"https://colab.research.google.com/github/BenGravell/rbot101/blob/main/probability_theory/notebooks/function_of_rv.ipynb\" target=\"_parent\"><img src=\"https://colab.research.google.com/assets/colab-badge.svg\" alt=\"Open In Colab\"/></a>"
      ]
    },
    {
      "cell_type": "code",
      "metadata": {
        "colab": {
          "base_uri": "https://localhost:8080/"
        },
        "id": "tMtEr3hMO_Rz",
        "outputId": "23338dfe-29e8-4be7-f6a3-cc3d2cadc2d6"
      },
      "source": [
        "# Only need to run this once per Colab notebook\n",
        "!git clone https://github.com/BenGravell/rbot101"
      ],
      "execution_count": 1,
      "outputs": [
        {
          "output_type": "stream",
          "text": [
            "Cloning into 'rbot101'...\n",
            "remote: Enumerating objects: 73, done.\u001b[K\n",
            "remote: Counting objects: 100% (73/73), done.\u001b[K\n",
            "remote: Compressing objects: 100% (45/45), done.\u001b[K\n",
            "remote: Total 73 (delta 37), reused 49 (delta 25), pack-reused 0\u001b[K\n",
            "Unpacking objects: 100% (73/73), done.\n"
          ],
          "name": "stdout"
        }
      ]
    },
    {
      "cell_type": "code",
      "metadata": {
        "id": "s4fmx5A2PA5K"
      },
      "source": [
        "import sys\n",
        "sys.path.insert(0,'/content/rbot101')\n",
        "sys.path.insert(0,'/content/rbot101/probability_theory')"
      ],
      "execution_count": 2,
      "outputs": []
    },
    {
      "cell_type": "code",
      "metadata": {
        "id": "EfIMoaTlPDad"
      },
      "source": [
        "import numpy as np\n",
        "import matplotlib.pyplot as plt\n",
        "from utility import savefig, plt_reset"
      ],
      "execution_count": 3,
      "outputs": []
    },
    {
      "cell_type": "code",
      "metadata": {
        "id": "0xSsd2R0POOt"
      },
      "source": [
        "def pdf_x(x):\n",
        "    return np.where(np.logical_and(x <= np.pi, x >= -np.pi), 1/(2*np.pi), 0)\n",
        "\n",
        "\n",
        "def pdf_y(y):\n",
        "    return (1.0/np.pi)*(1.0/np.sqrt(1.0 - np.square(y)))\n",
        "\n",
        "\n",
        "def g(X):\n",
        "    return np.sin(X)"
      ],
      "execution_count": 4,
      "outputs": []
    },
    {
      "cell_type": "code",
      "metadata": {
        "id": "IEDUQvFVPPcR"
      },
      "source": [
        "X = np.random.uniform(-np.pi, np.pi, size=2000)\n",
        "Y = g(X)"
      ],
      "execution_count": 5,
      "outputs": []
    },
    {
      "cell_type": "code",
      "metadata": {
        "id": "Kyl60dXbPQlp"
      },
      "source": [
        "plt_reset()"
      ],
      "execution_count": 6,
      "outputs": []
    },
    {
      "cell_type": "code",
      "metadata": {
        "colab": {
          "base_uri": "https://localhost:8080/",
          "height": 289
        },
        "id": "dmJHyz5RPR-k",
        "outputId": "2b5a7011-4162-40e2-8925-3c32742b2c1f"
      },
      "source": [
        "plt.figure()\n",
        "x = np.linspace(-np.pi, np.pi, 1000)\n",
        "plt.plot(x, pdf_x(x), color='C0', alpha=0.8, label='True pdf')\n",
        "plt.hist(X, bins=50, density=True, color='k', alpha=0.3, label='Samples')\n",
        "plt.xlabel('x')\n",
        "plt.ylabel('density')\n",
        "plt.legend()\n",
        "plt.tight_layout()"
      ],
      "execution_count": 7,
      "outputs": [
        {
          "output_type": "display_data",
          "data": {
            "image/png": "[encoded data removed]",
            "text/plain": [
              "<Figure size 432x288 with 1 Axes>"
            ]
          },
          "metadata": {
            "tags": [],
            "needs_background": "light"
          }
        }
      ]
    },
    {
      "cell_type": "code",
      "metadata": {
        "colab": {
          "base_uri": "https://localhost:8080/",
          "height": 289
        },
        "id": "_AWObha0PS1p",
        "outputId": "bac3281d-2161-449d-c5e5-24dd709883aa"
      },
      "source": [
        "plt.figure()\n",
        "y = np.linspace(-1.0, 1.0, 1000)[1:-1]  # drop the endpoints to avoid dividing by zero\n",
        "plt.plot(y, pdf_y(y), color='C0', alpha=0.8, label='True pdf')\n",
        "plt.hist(Y, bins=50, density=True, color='k', alpha=0.3, label='Samples')\n",
        "plt.xlabel('y')\n",
        "plt.ylabel('density')\n",
        "plt.legend()\n",
        "plt.tight_layout()\n",
        "savefig('function_of_rv.pdf')"
      ],
      "execution_count": 8,
      "outputs": [
        {
          "output_type": "display_data",
          "data": {
            "image/png": "[encoded data removed]",
            "text/plain": [
              "<Figure size 432x288 with 1 Axes>"
            ]
          },
          "metadata": {
            "tags": [],
            "needs_background": "light"
          }
        }
      ]
    }
  ]
}