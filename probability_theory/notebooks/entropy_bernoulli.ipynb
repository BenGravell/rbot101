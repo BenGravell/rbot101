{
  "nbformat": 4,
  "nbformat_minor": 0,
  "metadata": {
    "colab": {
      "name": "entropy_bernoulli.ipynb",
      "provenance": [],
      "authorship_tag": "ABX9TyPcJCuW4aPMWy1bcBk5enwP",
      "include_colab_link": true
    },
    "kernelspec": {
      "name": "python3",
      "display_name": "Python 3"
    },
    "language_info": {
      "name": "python"
    }
  },
  "cells": [
    {
      "cell_type": "markdown",
      "metadata": {
        "id": "view-in-github",
        "colab_type": "text"
      },
      "source": [
        "<a href=\"https://colab.research.google.com/github/BenGravell/rbot101/blob/main/probability_theory/notebooks/entropy_bernoulli.ipynb\" target=\"_parent\"><img src=\"https://colab.research.google.com/assets/colab-badge.svg\" alt=\"Open In Colab\"/></a>"
      ]
    },
    {
      "cell_type": "code",
      "metadata": {
        "colab": {
          "base_uri": "https://localhost:8080/"
        },
        "id": "zA0sU-dwVJUB",
        "outputId": "4c9c6692-03b6-4d47-ff38-537826e31c9c"
      },
      "source": [
        "# Only need to run this once per Colab notebook\n",
        "!git clone https://github.com/BenGravell/rbot101"
      ],
      "execution_count": 1,
      "outputs": [
        {
          "output_type": "stream",
          "text": [
            "Cloning into 'rbot101'...\n",
            "remote: Enumerating objects: 190, done.\u001b[K\n",
            "remote: Counting objects: 100% (190/190), done.\u001b[K\n",
            "remote: Compressing objects: 100% (116/116), done.\u001b[K\n",
            "remote: Total 190 (delta 119), reused 124 (delta 71), pack-reused 0\u001b[K\n",
            "Receiving objects: 100% (190/190), 2.36 MiB | 10.51 MiB/s, done.\n",
            "Resolving deltas: 100% (119/119), done.\n"
          ],
          "name": "stdout"
        }
      ]
    },
    {
      "cell_type": "code",
      "metadata": {
        "id": "CENJGrMrVKN3"
      },
      "source": [
        "import sys\n",
        "sys.path.insert(0,'/content/rbot101')\n",
        "sys.path.insert(0,'/content/rbot101/probability_theory')"
      ],
      "execution_count": 2,
      "outputs": []
    },
    {
      "cell_type": "code",
      "metadata": {
        "id": "llGseBluVLwg"
      },
      "source": [
        "import numpy as np\n",
        "import matplotlib.pyplot as plt\n",
        "import sys\n",
        "sys.path.insert(0, '../')\n",
        "from utility import savefig, plt_reset"
      ],
      "execution_count": 3,
      "outputs": []
    },
    {
      "cell_type": "code",
      "metadata": {
        "id": "Qbfk868ZVNpV"
      },
      "source": [
        "def entropy(pmf, base=2):\n",
        "    # Compute the entropy of a discrete random variable with probability mass function described by the array pmf\n",
        "    log_pmf = np.log(pmf)/np.log(base)\n",
        "    return -np.sum(np.multiply(pmf, log_pmf))"
      ],
      "execution_count": 4,
      "outputs": []
    },
    {
      "cell_type": "code",
      "metadata": {
        "id": "GblIpfGnVPKt"
      },
      "source": [
        "# Number of samples\n",
        "ns = 1000\n",
        "\n",
        "# Parameter values\n",
        "eps = 1e-12\n",
        "ps = np.linspace(0+eps, 1-eps, ns)"
      ],
      "execution_count": 5,
      "outputs": []
    },
    {
      "cell_type": "code",
      "metadata": {
        "id": "VYrV5WjpVUZx"
      },
      "source": [
        "# Entropies\n",
        "Hs = np.zeros(ns)\n",
        "for i in range(ns):\n",
        "    p = ps[i]\n",
        "    pmf = np.array([1 - p, p])\n",
        "    Hs[i] = entropy(pmf)"
      ],
      "execution_count": 6,
      "outputs": []
    },
    {
      "cell_type": "code",
      "metadata": {
        "colab": {
          "base_uri": "https://localhost:8080/",
          "height": 217
        },
        "id": "uswS5wFAVVQa",
        "outputId": "262a77dc-2be8-45ab-f7e8-469df9ab85b2"
      },
      "source": [
        "plt_reset()\n",
        "figsize = (6, 3)\n",
        "plt.figure(figsize=figsize)\n",
        "plt.plot(ps, Hs, color='C0', lw=4)\n",
        "plt.xlabel('p')\n",
        "plt.ylabel('Entropy')\n",
        "plt.grid('on')\n",
        "plt.tight_layout()\n",
        "savefig('entropy_bernoulli.pdf')\n",
        "plt.show()"
      ],
      "execution_count": 7,
      "outputs": [
        {
          "output_type": "display_data",
          "data": {
            "image/png": "[encoded data removed]",
            "text/plain": [
              "<Figure size 432x216 with 1 Axes>"
            ]
          },
          "metadata": {
            "tags": [],
            "needs_background": "light"
          }
        }
      ]
    }
  ]
}