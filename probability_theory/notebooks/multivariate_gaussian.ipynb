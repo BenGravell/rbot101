{
  "nbformat": 4,
  "nbformat_minor": 0,
  "metadata": {
    "colab": {
      "name": "multivariate_gaussian.ipynb",
      "provenance": [],
      "authorship_tag": "ABX9TyMW12Xj+G7eMfeljGL0qY3m",
      "include_colab_link": true
    },
    "kernelspec": {
      "name": "python3",
      "display_name": "Python 3"
    },
    "language_info": {
      "name": "python"
    }
  },
  "cells": [
    {
      "cell_type": "markdown",
      "metadata": {
        "id": "view-in-github",
        "colab_type": "text"
      },
      "source": [
        "<a href=\"https://colab.research.google.com/github/BenGravell/rbot101/blob/main/probability_theory/multivariate_gaussian.ipynb\" target=\"_parent\"><img src=\"https://colab.research.google.com/assets/colab-badge.svg\" alt=\"Open In Colab\"/></a>"
      ]
    },
    {
      "cell_type": "code",
      "metadata": {
        "colab": {
          "base_uri": "https://localhost:8080/"
        },
        "id": "W3YDTaSQKbEI",
        "outputId": "d17a4e68-3e26-4a61-ead1-1b9c9c34c2c8"
      },
      "source": [
        "# Only need to run this once per Colab notebook\n",
        "!git clone https://github.com/BenGravell/rbot101"
      ],
      "execution_count": 1,
      "outputs": [
        {
          "output_type": "stream",
          "text": [
            "fatal: destination path 'rbot101' already exists and is not an empty directory.\n"
          ],
          "name": "stdout"
        }
      ]
    },
    {
      "cell_type": "code",
      "metadata": {
        "id": "f53cwooiKUK-"
      },
      "source": [
        "import sys\n",
        "sys.path.insert(0,'/content/rbot101')\n",
        "sys.path.insert(0,'/content/rbot101/probability_theory')"
      ],
      "execution_count": 2,
      "outputs": []
    },
    {
      "cell_type": "code",
      "metadata": {
        "id": "R9ZWQyyVKRoo"
      },
      "source": [
        "import numpy as np\n",
        "import numpy.linalg as la\n",
        "import numpy.random as npr\n",
        "import matplotlib.pyplot as plt\n",
        "from utility import savefig, plt_reset"
      ],
      "execution_count": 3,
      "outputs": []
    },
    {
      "cell_type": "code",
      "metadata": {
        "id": "5pgwhjQNKXMu"
      },
      "source": [
        "def rand_psd(d):\n",
        "    # Generate a random d x d positive semidefinite matrix\n",
        "    E = np.diag(npr.rand(d))\n",
        "    U = npr.randn(d, d)\n",
        "    V = la.qr(U)[0]\n",
        "    P = V.dot(E.dot(V.T))\n",
        "    return P"
      ],
      "execution_count": 4,
      "outputs": []
    },
    {
      "cell_type": "code",
      "metadata": {
        "id": "nVXz_S3xK6FJ"
      },
      "source": [
        "def multivariate_gaussian_pdf(x, mean, covr):\n",
        "    n = mean.size\n",
        "    a = (((2*np.pi)**n)*la.det(covr))**0.5\n",
        "    z = x - mean\n",
        "    b = np.dot(z, la.solve(covr, z))\n",
        "    return np.exp(-0.5*b)/a"
      ],
      "execution_count": 5,
      "outputs": []
    },
    {
      "cell_type": "code",
      "metadata": {
        "id": "P0Yk5VvkK62C"
      },
      "source": [
        "plt_reset()\n",
        "npr.seed(12)\n",
        "n = 2\n",
        "num_dists = 4"
      ],
      "execution_count": 6,
      "outputs": []
    },
    {
      "cell_type": "code",
      "metadata": {
        "colab": {
          "base_uri": "https://localhost:8080/",
          "height": 188
        },
        "id": "D6AMBm-tK84R",
        "outputId": "c327e40c-a7aa-41c9-be77-d1d462b48619"
      },
      "source": [
        "fig, ax = plt.subplots(nrows=1, ncols=num_dists, figsize=(2.2*num_dists, 2.6), sharex=True, sharey=True)\n",
        "for k in range(num_dists):\n",
        "    mean = 2*npr.rand(n)-1\n",
        "    covr = rand_psd(n)\n",
        "    nx, ny = 50, 50\n",
        "    x, y = np.linspace(-3, 3, nx), np.linspace(-3, 3, ny)\n",
        "    X, Y = np.meshgrid(x, y)\n",
        "    Z = np.zeros_like(X)\n",
        "    for i in range(nx):\n",
        "        for j in range(ny):\n",
        "            Z[i, j] = multivariate_gaussian_pdf(np.array([X[i, j], Y[i, j]]), mean, covr)\n",
        "    ax[k].contourf(X, Y, Z, levels=10, cmap='Blues')\n",
        "fig.tight_layout()\n",
        "savefig('multivariate_gaussian.pdf')"
      ],
      "execution_count": 7,
      "outputs": [
        {
          "output_type": "display_data",
          "data": {
            "image/png": "[encoded data removed]",
            "text/plain": [
              "<Figure size 633.6x187.2 with 4 Axes>"
            ]
          },
          "metadata": {
            "tags": [],
            "needs_background": "light"
          }
        }
      ]
    }
  ]
}