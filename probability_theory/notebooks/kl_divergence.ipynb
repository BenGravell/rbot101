{
  "nbformat": 4,
  "nbformat_minor": 0,
  "metadata": {
    "colab": {
      "name": "kl_divergence.ipynb",
      "provenance": [],
      "authorship_tag": "ABX9TyPo6g6vOw7GljbTCzngnGYs",
      "include_colab_link": true
    },
    "kernelspec": {
      "name": "python3",
      "display_name": "Python 3"
    },
    "language_info": {
      "name": "python"
    }
  },
  "cells": [
    {
      "cell_type": "markdown",
      "metadata": {
        "id": "view-in-github",
        "colab_type": "text"
      },
      "source": [
        "<a href=\"https://colab.research.google.com/github/BenGravell/rbot101/blob/main/probability_theory/notebooks/kl_divergence.ipynb\" target=\"_parent\"><img src=\"https://colab.research.google.com/assets/colab-badge.svg\" alt=\"Open In Colab\"/></a>"
      ]
    },
    {
      "cell_type": "code",
      "metadata": {
        "colab": {
          "base_uri": "https://localhost:8080/"
        },
        "id": "jRw7f4ZEUnnj",
        "outputId": "3630bf67-d3c8-4c9a-cfc8-287bf05866b9"
      },
      "source": [
        "# Only need to run this once per Colab notebook\n",
        "!git clone https://github.com/BenGravell/rbot101"
      ],
      "execution_count": 1,
      "outputs": [
        {
          "output_type": "stream",
          "text": [
            "Cloning into 'rbot101'...\n",
            "remote: Enumerating objects: 185, done.\u001b[K\n",
            "remote: Counting objects: 100% (185/185), done.\u001b[K\n",
            "remote: Compressing objects: 100% (111/111), done.\u001b[K\n",
            "remote: Total 185 (delta 116), reused 124 (delta 71), pack-reused 0\u001b[K\n",
            "Receiving objects: 100% (185/185), 2.36 MiB | 9.75 MiB/s, done.\n",
            "Resolving deltas: 100% (116/116), done.\n"
          ],
          "name": "stdout"
        }
      ]
    },
    {
      "cell_type": "code",
      "metadata": {
        "id": "9Mqq1yrlUpVR"
      },
      "source": [
        "import sys\n",
        "sys.path.insert(0,'/content/rbot101')\n",
        "sys.path.insert(0,'/content/rbot101/probability_theory')"
      ],
      "execution_count": 2,
      "outputs": []
    },
    {
      "cell_type": "code",
      "metadata": {
        "id": "vnQ8cm3_Uq6h"
      },
      "source": [
        "import numpy as np"
      ],
      "execution_count": 3,
      "outputs": []
    },
    {
      "cell_type": "code",
      "metadata": {
        "id": "jvTq9KqiUtgL"
      },
      "source": [
        "def kl_divergence(x_pmf, y_pmf, base=2):\n",
        "    log_diff_pmf = np.log(x_pmf/y_pmf)/np.log(base)\n",
        "    return np.sum(np.multiply(x_pmf, log_diff_pmf))"
      ],
      "execution_count": 4,
      "outputs": []
    },
    {
      "cell_type": "code",
      "metadata": {
        "id": "3JkjNnkoUvBZ"
      },
      "source": [
        "x_pmf = np.array([0.4, 0.2, 0.4])\n",
        "y_pmf = np.array([0.3, 0.3, 0.4])\n",
        "z_pmf = np.array([0.3, 0.4, 0.3])"
      ],
      "execution_count": 5,
      "outputs": []
    },
    {
      "cell_type": "code",
      "metadata": {
        "colab": {
          "base_uri": "https://localhost:8080/"
        },
        "id": "o9k-OVOgUwrl",
        "outputId": "a30d3a8a-dae5-4cda-ef40-f1b83328b9b0"
      },
      "source": [
        "# Check for symmetry\n",
        "lhs = kl_divergence(x_pmf, y_pmf)\n",
        "rhs = kl_divergence(y_pmf, x_pmf)\n",
        "if lhs == rhs:\n",
        "    print('Symmetry holds')\n",
        "    comp_str = '=='\n",
        "else:\n",
        "    print('Symmetry fails')\n",
        "    comp_str = '!='\n",
        "print('D(x||y) = ', lhs, comp_str, rhs, ' = D(y||x)')"
      ],
      "execution_count": 6,
      "outputs": [
        {
          "output_type": "stream",
          "text": [
            "Symmetry fails\n",
            "D(x||y) =  0.04902249956730638 != 0.05097750043269357  = D(y||x)\n"
          ],
          "name": "stdout"
        }
      ]
    },
    {
      "cell_type": "code",
      "metadata": {
        "colab": {
          "base_uri": "https://localhost:8080/"
        },
        "id": "rKEOkQCiUyEY",
        "outputId": "ee3ef030-d6f6-49d7-ae80-e214b89dd5a5"
      },
      "source": [
        "# Check the triangle inequality\n",
        "lhs = kl_divergence(x_pmf, z_pmf)\n",
        "rhs = kl_divergence(x_pmf, y_pmf) + kl_divergence(y_pmf, z_pmf)\n",
        "if lhs <= rhs:\n",
        "    print('Triangle inequality holds')\n",
        "    comp_str = '<='\n",
        "else:\n",
        "    print('Triangle inequality fails')\n",
        "    comp_str = '> '\n",
        "print('D(x||z) = ', lhs, comp_str, rhs, ' = D(x||y) + D(y||z)')"
      ],
      "execution_count": 7,
      "outputs": [
        {
          "output_type": "stream",
          "text": [
            "Triangle inequality fails\n",
            "D(x||z) =  0.1320299994230752 >  0.09052624949519078  = D(x||y) + D(y||z)\n"
          ],
          "name": "stdout"
        }
      ]
    }
  ]
}